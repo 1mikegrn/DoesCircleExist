{
  "nbformat": 4,
  "nbformat_minor": 0,
  "metadata": {
    "colab": {
      "name": "DoesCircleExist.ipynb",
      "provenance": [],
      "collapsed_sections": []
    },
    "kernelspec": {
      "name": "python3",
      "display_name": "Python 3"
    }
  },
  "cells": [
    {
      "cell_type": "markdown",
      "metadata": {
        "id": "JX0tp0ZwoL1J",
        "colab_type": "text"
      },
      "source": [
        "# A Python/C solution to the DoesCircleExist programming challenge.\n",
        "\n",
        "Run each cell sequentially; or, under the 'runtime' tab, click 'run all'."
      ]
    },
    {
      "cell_type": "code",
      "metadata": {
        "id": "ISaZYv4-Dl7I",
        "colab_type": "code",
        "colab": {}
      },
      "source": [
        "pip install git+https://github.com/1mikegrn/DoesCircleExist"
      ],
      "execution_count": null,
      "outputs": []
    },
    {
      "cell_type": "code",
      "metadata": {
        "id": "TEFXVtysItOk",
        "colab_type": "code",
        "colab": {}
      },
      "source": [
        "import DoesCircleExist, time, urllib\n",
        "import numpy as np"
      ],
      "execution_count": 6,
      "outputs": []
    },
    {
      "cell_type": "code",
      "metadata": {
        "id": "t7STD_cPDq6Q",
        "colab_type": "code",
        "colab": {}
      },
      "source": [
        "# this is the slow solution to the hackerRank challenge\n",
        "\n",
        "def change_dir(step, drn):\n",
        "    pos = [[-1,0],[0,1],[1,0],[0,-1],[-1,0],[0,1]]\n",
        "    index = pos[1:-1].index(step) + 1\n",
        "    if drn == 'R':\n",
        "        index += 1\n",
        "    elif drn == 'L':\n",
        "        index -= 1\n",
        "    return pos[index]\n",
        "\n",
        "def check(x):\n",
        "    pos = [0, 0]\n",
        "    step = [0, 1]\n",
        "\n",
        "    for i in x:\n",
        "        if i == 'G':\n",
        "            pos = [sum(item) for item in zip(pos, step)]\n",
        "        else:\n",
        "            step = change_dir(step, i)\n",
        "    return pos\n",
        "\n",
        "def Py_doesCircleExist(commands):\n",
        "    results = []\n",
        "    for cmd in commands:\n",
        "        string  = cmd*4\n",
        "        if check(string) == [0,0]:\n",
        "            results.append('YES')\n",
        "        else:\n",
        "            results.append('NO')\n",
        "    return results\n"
      ],
      "execution_count": 7,
      "outputs": []
    },
    {
      "cell_type": "code",
      "metadata": {
        "id": "cJqILc0rH5Rq",
        "colab_type": "code",
        "colab": {}
      },
      "source": [
        "# Compare the python implementation to the python/C implementation\n",
        "\n",
        "test_lists = [\n",
        "    ''.join([('R', 'G', 'L')[np.random.randint(0, 3)] for _ in range(10000)])\n",
        "    for _ in range(50)]\n",
        "\n",
        "def time_it():\n",
        "    t1 = time.time()\n",
        "    pyRes = Py_doesCircleExist(test_lists)\n",
        "    t2=time.time()\n",
        "    cRes = DoesCircleExist.listCheck(test_lists)\n",
        "    t3=time.time()\n",
        "\n",
        "    cTime = t2 - t1\n",
        "    pyTime = t3 - t2\n",
        "\n",
        "    pChange = ((cTime-pyTime)/(pyTime))*100\n",
        "\n",
        "    print(\"Results: \\n\", pyRes, \"\\n\", cRes,\"\\n\",\"\\n\",\n",
        "        \"Python run time: \" + str(cTime), \"\\n\",\n",
        "        \"Python/C run time: \" + str(pyTime),\n",
        "        \"\\n\",\"\\n\",\n",
        "        \"Percent Increase: \" + str(round(pChange, 2)) + \"%\",\n",
        "    )\n",
        "\n",
        "time_it()"
      ],
      "execution_count": null,
      "outputs": []
    }
  ]
}