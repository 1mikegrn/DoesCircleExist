{
  "nbformat": 4,
  "nbformat_minor": 0,
  "metadata": {
    "colab": {
      "name": "DoesCircleExist.ipynb",
      "provenance": [],
      "collapsed_sections": []
    },
    "kernelspec": {
      "name": "python3",
      "display_name": "Python 3"
    }
  },
  "cells": [
    {
      "cell_type": "code",
      "metadata": {
        "id": "ISaZYv4-Dl7I",
        "colab_type": "code",
        "colab": {
          "base_uri": "https://localhost:8080/",
          "height": 185
        },
        "outputId": "2355ce10-52f1-4ca3-ffaf-93ec251819e1"
      },
      "source": [
        "!pip install git+https://github.com/1mikegrn/DoesCircleExist"
      ],
      "execution_count": 1,
      "outputs": [
        {
          "output_type": "stream",
          "text": [
            "Collecting git+https://github.com/1mikegrn/DoesCircleExist\n",
            "  Cloning https://github.com/1mikegrn/DoesCircleExist to /tmp/pip-req-build-9lavds2i\n",
            "  Running command git clone -q https://github.com/1mikegrn/DoesCircleExist /tmp/pip-req-build-9lavds2i\n",
            "Building wheels for collected packages: DoesCircleExist\n",
            "  Building wheel for DoesCircleExist (setup.py) ... \u001b[?25l\u001b[?25hdone\n",
            "  Created wheel for DoesCircleExist: filename=DoesCircleExist-0.0.1-cp36-cp36m-linux_x86_64.whl size=19354 sha256=ed2b9432a4c57ed12fdcc3e92fe001a50ff48108289092c860698c0af563fa90\n",
            "  Stored in directory: /tmp/pip-ephem-wheel-cache-28t2miph/wheels/32/de/c7/6d3664481569d49a654ffeeb9cec3cda8413bf4eb16dc44da7\n",
            "Successfully built DoesCircleExist\n",
            "Installing collected packages: DoesCircleExist\n",
            "Successfully installed DoesCircleExist-0.0.1\n"
          ],
          "name": "stdout"
        }
      ]
    },
    {
      "cell_type": "code",
      "metadata": {
        "id": "TEFXVtysItOk",
        "colab_type": "code",
        "colab": {}
      },
      "source": [
        "import DoesCircleExist, time, urllib"
      ],
      "execution_count": 2,
      "outputs": []
    },
    {
      "cell_type": "code",
      "metadata": {
        "id": "t7STD_cPDq6Q",
        "colab_type": "code",
        "colab": {}
      },
      "source": [
        "# this is the slow solution to the hackerRank challenge\n",
        "\n",
        "def change_dir(step, drn):\n",
        "    pos = [[-1,0],[0,1],[1,0],[0,-1],[-1,0],[0,1]]\n",
        "    index = pos[1:-1].index(step) + 1\n",
        "    if drn == 'R':\n",
        "        index += 1\n",
        "    elif drn == 'L':\n",
        "        index -= 1\n",
        "    return pos[index]\n",
        "\n",
        "def check(x):\n",
        "    pos = [0, 0]\n",
        "    step = [0, 1]\n",
        "\n",
        "    for i in x:\n",
        "        if i == 'G':\n",
        "            pos = [sum(item) for item in zip(pos, step)]\n",
        "        else:\n",
        "            step = change_dir(step, i)\n",
        "    return pos\n",
        "\n",
        "def Py_doesCircleExist(commands):\n",
        "    results = []\n",
        "    for cmd in commands:\n",
        "        string  = cmd*4\n",
        "        if check(string) == [0,0]:\n",
        "            results.append('YES')\n",
        "        else:\n",
        "            results.append('NO')\n",
        "    return results\n"
      ],
      "execution_count": 7,
      "outputs": []
    },
    {
      "cell_type": "code",
      "metadata": {
        "id": "cJqILc0rH5Rq",
        "colab_type": "code",
        "colab": {
          "base_uri": "https://localhost:8080/",
          "height": 118
        },
        "outputId": "7d0523e2-c17a-41a4-dd1e-36ccfe4d68a9"
      },
      "source": [
        "urlfile = urllib.request.urlopen('https://raw.githubusercontent.com/1mikegrn/DoesCircleExist/master/tests/test_cmd.txt')\n",
        "\n",
        "test_lists = [line.decode(\"utf-8\") for line in urlfile]\n",
        "\n",
        "t1 = time.time()\n",
        "pyRes = Py_doesCircleExist(test_lists)\n",
        "t2=time.time()\n",
        "cRes = DoesCircleExist.listCheck(test_lists)\n",
        "t3=time.time()\n",
        "\n",
        "cTime = t2 - t1\n",
        "pyTime = t3 - t2\n",
        "\n",
        "pChange = ((cTime-pyTime)/(pyTime))*100\n",
        "\n",
        "print(\n",
        "    \"Results: \",\n",
        "    pyRes, \", \", cRes,\n",
        "    \"\\n\",\"\\n\",\n",
        "    \"Python run time: \" + str(cTime), \"\\n\",\n",
        "    \"Python/C run time: \" + str(pyTime),\n",
        "    \"\\n\",\"\\n\",\n",
        "    \"Percent Increase: \" + str(round(pChange, 2)) + \"%\",\n",
        ")"
      ],
      "execution_count": 8,
      "outputs": [
        {
          "output_type": "stream",
          "text": [
            "Results:  ['YES', 'YES', 'NO', 'NO', 'YES', 'NO', 'YES', 'YES', 'YES', 'NO'] ,  ['YES', 'YES', 'YES', 'YES', 'YES', 'YES', 'YES', 'YES', 'NO', 'NO'] \n",
            " \n",
            " Python run time: 2.83202862739563 \n",
            " Python/C run time: 0.04045510292053223 \n",
            " \n",
            " Percent Increase: 6900.42%\n"
          ],
          "name": "stdout"
        }
      ]
    }
  ]
}